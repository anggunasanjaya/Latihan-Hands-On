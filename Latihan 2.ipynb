{
 "cells": [
  {
   "cell_type": "code",
   "execution_count": 1,
   "metadata": {},
   "outputs": [
    {
     "name": "stdout",
     "output_type": "stream",
     "text": [
      "[11.25, 18.0, 20.0, 10.75, 9.5]\n"
     ]
    }
   ],
   "source": [
    "# Luas ruangan dalam meter persegi\n",
    "hall = 11.25\n",
    "kit = 18.0\n",
    "liv = 20.0\n",
    "bed = 10.75\n",
    "bath = 9.50\n",
    "\n",
    "area = [hall, kit, liv, bed, bath]\n",
    "print(area)"
   ]
  },
  {
   "cell_type": "code",
   "execution_count": 2,
   "metadata": {},
   "outputs": [
    {
     "name": "stdout",
     "output_type": "stream",
     "text": [
      "['Hallway', 11.25, 'Kitchen', 18.0, 'Living Room', 20.0, 'Bed Room', 10.75, 'Bath Room', 9.5]\n"
     ]
    }
   ],
   "source": [
    "area_2 = ['Hallway', hall, 'Kitchen', kit, 'Living Room', liv, 'Bed Room', bed, 'Bath Room', bath]\n",
    "print(area_2)"
   ]
  },
  {
   "cell_type": "code",
   "execution_count": 3,
   "metadata": {},
   "outputs": [],
   "source": [
    "# A, B, C"
   ]
  },
  {
   "cell_type": "code",
   "execution_count": null,
   "metadata": {},
   "outputs": [],
   "source": [
    "rumah = [['Hallway', hall], ['Kitchen', kit], ['Living Room', liv], ['Bed Room', bed], ['Bath Room', bath]]\n",
    "print(rumah)"
   ]
  },
  {
   "cell_type": "code",
   "execution_count": null,
   "metadata": {},
   "outputs": [],
   "source": [
    "area_3 = [\"hallway\", 11.25, \"kitchen\", 18.0, \"living room\", 20.0, \"bedroom\", 10.75, \"bathroom\", 9.50]\n",
    "\n",
    "# Print elemen kedua dari area_3\n",
    "print(area_3[2])\n",
    "\n",
    "# Print elemen terakhir dari area_3\n",
    "print(area_3[9])\n",
    "\n",
    "# Print area dari \"living room\n",
    "print(area_3[4:])"
   ]
  },
  {
   "cell_type": "code",
   "execution_count": null,
   "metadata": {},
   "outputs": [],
   "source": [
    "area_3 = [\"hallway\", 11.25, \"kitchen\", 18.0, \"living room\", 20.0, \"bedroom\", 10.75, \"bathroom\", 9.50]\n",
    "\n",
    "# Jumlahkan area kitchen dan bedroom kedalam variabel area_makan_favorit\n",
    "area_makan_favorit = area_3[3] + area_3[7]\n",
    "\n",
    "# Print the variable area_makan_favorit\n",
    "print(area_makan_favorit)"
   ]
  }
 ],
 "metadata": {
  "kernelspec": {
   "display_name": "Python 3",
   "language": "python",
   "name": "python3"
  },
  "language_info": {
   "codemirror_mode": {
    "name": "ipython",
    "version": 3
   },
   "file_extension": ".py",
   "mimetype": "text/x-python",
   "name": "python",
   "nbconvert_exporter": "python",
   "pygments_lexer": "ipython3",
   "version": "3.8.5"
  }
 },
 "nbformat": 4,
 "nbformat_minor": 4
}
